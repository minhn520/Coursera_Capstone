{
 "cells": [
  {
   "cell_type": "markdown",
   "metadata": {},
   "source": [
    "# Introduction"
   ]
  },
  {
   "cell_type": "markdown",
   "metadata": {},
   "source": [
    "## Background:"
   ]
  },
  {
   "cell_type": "markdown",
   "metadata": {},
   "source": [
    "New York city is a compact business center, as well as one of the most popular tourist destination in the world. The Big Apple attracts on average 60 million visitors annually in the last few years and that number is still growing. New York city is currently ranked sixth, behind Bangkok, London, Paris, Dubai and Singapore. Among American cities, New York ranks second only to Orlando in the number of visitors it draws. Orlando claims to attract more than 70 million visitors a year (1). In 2018, total visitor spending was estimated to be around $44 billion. Data published by VISA in 2016 suggested that 24% of all VISA spending was attributed to restaurants and food. It is clear that restaurants in New York city holds a big chunk of the pie. The success of a restaurant is greatly affected by its location and whether it is located in close proximity to other popular venues and destinations. It is highly advantageous to accurately predict which location would be best suited for a new restaurant to thrive. This information can be used to target desirable location to open a new restaurant.\n"
   ]
  },
  {
   "cell_type": "markdown",
   "metadata": {},
   "source": [
    "## Problem:"
   ]
  },
  {
   "cell_type": "markdown",
   "metadata": {},
   "source": [
    "Data that might contribute to determine the success of a restaurant might include its location, which other popular tourist destinations are in its proximity, which other popular restaurants are close by, and how many hotels are in its proximity. This project aims to predict the best location to open a new restaurant based on the data located to those criteria."
   ]
  },
  {
   "cell_type": "markdown",
   "metadata": {},
   "source": [
    "# Data"
   ]
  },
  {
   "cell_type": "markdown",
   "metadata": {},
   "source": [
    "## Geo Data:"
   ]
  },
  {
   "cell_type": "markdown",
   "metadata": {},
   "source": [
    "First, we will need to look at the geo data of New York city and explore the 5 boroughs of New York City to see where to open the new restaurant. We will be segmenting the neighborhoods and exploring them individually. To do that, we will essentially need a dataset that contains the 5 boroughs and the neighborhoods that exist in each borough as well as the the latitude and longitude coordinates of each neighborhood. The geo data used to analyze different boroughs and neighborhoods is available for free here: https://geo.nyu.edu/catalog/nyu_2451_34572. After segmenting and clustering the neighborhoods by borough, it will help to be able to visualize it using folium."
   ]
  },
  {
   "cell_type": "markdown",
   "metadata": {},
   "source": [
    "## Foursquare API:\n",
    "    "
   ]
  },
  {
   "cell_type": "markdown",
   "metadata": {},
   "source": [
    "Utilizing the data available on Foursquare API, we will be exploring the venues in the proximity of the desired boroughs and neighborhoods. The data downloaded from Foursquare will most likely contain some irrelevant values. We will only look at the fields such as venues name, category, latitude and longitude. There will be many types of businesses available on Foursquare. We will try to only look at the businesses with categories that most resemble restaurants. \n",
    "People usually dine in restaurants close to where they are staying. For this reason, we will also explore hotels in these neighborhoods. This could be a good factor to determine the prime location for a new restaurant. "
   ]
  },
  {
   "cell_type": "markdown",
   "metadata": {},
   "source": [
    "# References"
   ]
  },
  {
   "cell_type": "markdown",
   "metadata": {},
   "source": [
    "(1) https://www.nytimes.com/2019/01/16/nyregion/nyc-tourism-record.html"
   ]
  },
  {
   "cell_type": "code",
   "execution_count": null,
   "metadata": {},
   "outputs": [],
   "source": []
  }
 ],
 "metadata": {
  "kernelspec": {
   "display_name": "Python",
   "language": "python",
   "name": "conda-env-python-py"
  },
  "language_info": {
   "codemirror_mode": {
    "name": "ipython",
    "version": 3
   },
   "file_extension": ".py",
   "mimetype": "text/x-python",
   "name": "python",
   "nbconvert_exporter": "python",
   "pygments_lexer": "ipython3",
   "version": "3.6.10"
  }
 },
 "nbformat": 4,
 "nbformat_minor": 4
}
